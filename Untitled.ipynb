{
 "cells": [
  {
   "cell_type": "code",
   "execution_count": 21,
   "metadata": {},
   "outputs": [],
   "source": [
    "import glob\n",
    "import cv2\n",
    "import numpy as np\n",
    "from pathlib import Path"
   ]
  },
  {
   "cell_type": "code",
   "execution_count": 28,
   "metadata": {},
   "outputs": [],
   "source": [
    "IMG_DIR='rose/'\n",
    "def read_images(directory):\n",
    "  for img in glob.glob(directory+\"/'.'\"):\n",
    "    image = cv2.imread(img)\n",
    "    resized_img = cv2.resize(image/255.0 , (320,240))\n",
    "    print(image.shape)\n",
    "    yield resized_img\n",
    "    \n",
    "resized_imgs = np.array(list(read_images(IMG_DIR)))\n",
    "#print(image.shape)"
   ]
  },
  {
   "cell_type": "code",
   "execution_count": 29,
   "metadata": {},
   "outputs": [
    {
     "data": {
      "text/plain": [
       "array([], dtype=float64)"
      ]
     },
     "execution_count": 29,
     "metadata": {},
     "output_type": "execute_result"
    }
   ],
   "source": [
    "resized_imgs"
   ]
  },
  {
   "cell_type": "code",
   "execution_count": null,
   "metadata": {},
   "outputs": [],
   "source": [
    "def read_img(img_list, img):\n",
    "    n = cv2.imread(img, 0)\n",
    "    img_list.append(n)\n",
    "    return img_list\n",
    "\n",
    "path = glob.glob(\"*.jpg\") #or jpg\n",
    "list_ = []`\n",
    "\n",
    "cv_image = [read_img(list_, img) for img in path]"
   ]
  },
  {
   "cell_type": "code",
   "execution_count": 23,
   "metadata": {},
   "outputs": [
    {
     "ename": "AttributeError",
     "evalue": "'generator' object has no attribute 'glob'",
     "output_type": "error",
     "traceback": [
      "\u001b[1;31m---------------------------------------------------------------------------\u001b[0m",
      "\u001b[1;31mAttributeError\u001b[0m                            Traceback (most recent call last)",
      "\u001b[1;32m<ipython-input-23-17aa4157e4dd>\u001b[0m in \u001b[0;36m<module>\u001b[1;34m\u001b[0m\n\u001b[0;32m      6\u001b[0m \u001b[1;33m\u001b[0m\u001b[0m\n\u001b[0;32m      7\u001b[0m \u001b[1;33m\u001b[0m\u001b[0m\n\u001b[1;32m----> 8\u001b[1;33m \u001b[1;32mfor\u001b[0m \u001b[0mimagepath\u001b[0m \u001b[1;32min\u001b[0m \u001b[0mpath\u001b[0m\u001b[1;33m.\u001b[0m\u001b[0mglob\u001b[0m\u001b[1;33m(\u001b[0m\u001b[1;34m\"*.jpg\"\u001b[0m\u001b[1;33m)\u001b[0m\u001b[1;33m:\u001b[0m\u001b[1;33m\u001b[0m\u001b[1;33m\u001b[0m\u001b[0m\n\u001b[0m\u001b[0;32m      9\u001b[0m \u001b[1;33m\u001b[0m\u001b[0m\n\u001b[0;32m     10\u001b[0m         \u001b[0mimg\u001b[0m\u001b[1;33m=\u001b[0m\u001b[0mcv2\u001b[0m\u001b[1;33m.\u001b[0m\u001b[0mimread\u001b[0m\u001b[1;33m(\u001b[0m\u001b[0mstr\u001b[0m\u001b[1;33m(\u001b[0m\u001b[0mimagepath\u001b[0m\u001b[1;33m)\u001b[0m\u001b[1;33m)\u001b[0m\u001b[1;33m\u001b[0m\u001b[1;33m\u001b[0m\u001b[0m\n",
      "\u001b[1;31mAttributeError\u001b[0m: 'generator' object has no attribute 'glob'"
     ]
    }
   ],
   "source": [
    "path=Path(\"./daisy\")\n",
    "\n",
    "path=path.glob(\"*.jpg\")\n",
    "\n",
    "images=[]\n",
    "\n",
    "\n",
    "for imagepath in path.glob(\"*.jpg\"):\n",
    "\n",
    "        img=cv2.imread(str(imagepath))\n",
    "        img=cv2.cvtColor(img,cv2.COLOR_BGR2GRAY)                         \n",
    "        img=cv2.resize(img,(200,200))\n",
    "        images.append(img)\n",
    "print(images)"
   ]
  },
  {
   "cell_type": "code",
   "execution_count": 25,
   "metadata": {},
   "outputs": [],
   "source": [
    "import numpy as np\n",
    "import matplotlib.pyplot as plt\n",
    "import pandas as pd\n",
    "import os\n",
    "import cv2\n",
    "from PIL import Image\n",
    "import sys"
   ]
  },
  {
   "cell_type": "code",
   "execution_count": 31,
   "metadata": {},
   "outputs": [],
   "source": [
    "dandelion=os.listdir('dandelion')\n",
    "sunflower=os.listdir('sunflower')\n",
    "tulip=os.listdir('tulip')"
   ]
  },
  {
   "cell_type": "code",
   "execution_count": 32,
   "metadata": {},
   "outputs": [
    {
     "name": "stdout",
     "output_type": "stream",
     "text": [
      "1055\n",
      "734\n",
      "984\n"
     ]
    }
   ],
   "source": [
    "dadneliondata=[]\n",
    "for file in dandelion:\n",
    "    temp=cv2.imread(\"dandelion/\"+str(file),1)\n",
    "    dadneliondata.append(temp)\n",
    "print(len(dadneliondata))\n",
    "sunflowerdata=[]\n",
    "for file in sunflower:\n",
    "    temp1=cv2.imread(\"sunflower/\"+str(file),1)\n",
    "    sunflowerdata.append(temp1)\n",
    "print(len(sunflowerdata))\n",
    "tulipdata=[]\n",
    "for file in tulip:\n",
    "    temp=cv2.imread(\"tulip/\"+str(file),1)\n",
    "    tulipdata.append(temp)\n",
    "print(len(tulipdata))"
   ]
  },
  {
   "cell_type": "code",
   "execution_count": null,
   "metadata": {},
   "outputs": [],
   "source": []
  }
 ],
 "metadata": {
  "kernelspec": {
   "display_name": "Python 3",
   "language": "python",
   "name": "python3"
  },
  "language_info": {
   "codemirror_mode": {
    "name": "ipython",
    "version": 3
   },
   "file_extension": ".py",
   "mimetype": "text/x-python",
   "name": "python",
   "nbconvert_exporter": "python",
   "pygments_lexer": "ipython3",
   "version": "3.7.6"
  }
 },
 "nbformat": 4,
 "nbformat_minor": 4
}
