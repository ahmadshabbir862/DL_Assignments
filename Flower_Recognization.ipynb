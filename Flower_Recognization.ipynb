{
  "nbformat": 4,
  "nbformat_minor": 0,
  "metadata": {
    "colab": {
      "name": "Flower Recognization.ipynb",
      "provenance": [],
      "collapsed_sections": [],
      "mount_file_id": "1VjHxYh-PYuwDaIUxWgGp4FHH6GUf5_FE",
      "authorship_tag": "ABX9TyMfgWsiDVcKZfNa7k3brt47",
      "include_colab_link": true
    },
    "kernelspec": {
      "name": "python3",
      "display_name": "Python 3"
    },
    "language_info": {
      "name": "python"
    }
  },
  "cells": [
    {
      "cell_type": "markdown",
      "metadata": {
        "id": "view-in-github",
        "colab_type": "text"
      },
      "source": [
        "<a href=\"https://colab.research.google.com/github/ahmadshabbir862/DL_Assignments/blob/main/Flower_Recognization.ipynb\" target=\"_parent\"><img src=\"https://colab.research.google.com/assets/colab-badge.svg\" alt=\"Open In Colab\"/></a>"
      ]
    },
    {
      "cell_type": "code",
      "metadata": {
        "colab": {
          "base_uri": "https://localhost:8080/"
        },
        "id": "hcTzhTFxSTb1",
        "outputId": "13fe1e39-5181-478a-eb2c-7b8c0a75df0a"
      },
      "source": [
        "%cd/content/drive/MyDrive/AI_assignment"
      ],
      "execution_count": null,
      "outputs": [
        {
          "output_type": "stream",
          "text": [
            "/content/drive/MyDrive/AI_assignment\n"
          ],
          "name": "stdout"
        }
      ]
    },
    {
      "cell_type": "code",
      "metadata": {
        "id": "91j5rZKJX3sY"
      },
      "source": [
        "import numpy as np\n",
        "import matplotlib.pyplot as plt\n",
        "import pandas as pd\n",
        "import os\n",
        "import cv2\n",
        "\n",
        "from tensorflow.keras.models import Sequential\n",
        "from tensorflow.keras.layers import Dense\n",
        "from tensorflow.keras.optimizers import Adam, SGD"
      ],
      "execution_count": null,
      "outputs": []
    },
    {
      "cell_type": "code",
      "metadata": {
        "colab": {
          "base_uri": "https://localhost:8080/"
        },
        "id": "lMeXOLQ1p4X9",
        "outputId": "66f02118-590a-4a89-8cc9-8c7fd3adad67"
      },
      "source": [
        "os.listdir()"
      ],
      "execution_count": null,
      "outputs": [
        {
          "output_type": "execute_result",
          "data": {
            "text/plain": [
              "['creditcard.csv',\n",
              " 'CarPrice_Assignment.csv',\n",
              " 'README.md',\n",
              " 'Car Price Prediction assignment.ipynb',\n",
              " 'Ionosphere Assignment.ipynb',\n",
              " 'Untitled0.ipynb',\n",
              " 'Car_Price_Prediction_assignment Code.ipynb',\n",
              " 'Concrete Strength Assignment.ipynb',\n",
              " 'Assignment.ipynb',\n",
              " 'Credit Card Fraud Detection assignment.ipynb',\n",
              " 'daisy',\n",
              " 'rose',\n",
              " 'Flowers_Recognition.ipynb',\n",
              " 'dandelion',\n",
              " 'sunflower',\n",
              " 'tulip']"
            ]
          },
          "metadata": {
            "tags": []
          },
          "execution_count": 48
        }
      ]
    },
    {
      "cell_type": "code",
      "metadata": {
        "id": "WkUvLRyP6Z2j"
      },
      "source": [
        "#label species\n",
        "species=['daisy', 'rose', 'sunflower']"
      ],
      "execution_count": null,
      "outputs": []
    },
    {
      "cell_type": "code",
      "metadata": {
        "id": "E7dzXwDD1Tw5"
      },
      "source": [
        "daisy=os.listdir('daisy')\n",
        "rose=os.listdir('rose')\n",
        "sunflower=os.listdir('sunflower')\n",
        "#tulip=os.listdir('tulip')\n",
        "#dandelion=os.listdir('dandelion')\n"
      ],
      "execution_count": null,
      "outputs": []
    },
    {
      "cell_type": "code",
      "metadata": {
        "id": "FoD233vp1fw3",
        "colab": {
          "base_uri": "https://localhost:8080/"
        },
        "outputId": "a4ddccc2-507e-45ad-ff7d-566526e42928"
      },
      "source": [
        "X=[]\n",
        "for file in daisy:\n",
        "    image=cv2.imread(\"daisy/\"+str(file),1)\n",
        "    resized_img = cv2.resize(image/255.0 , (240,320))\n",
        "    X.append(resized_img)\n",
        "print(len(X))"
      ],
      "execution_count": null,
      "outputs": [
        {
          "output_type": "stream",
          "text": [
            "769\n"
          ],
          "name": "stdout"
        }
      ]
    },
    {
      "cell_type": "code",
      "metadata": {
        "colab": {
          "base_uri": "https://localhost:8080/"
        },
        "id": "WSqjS1JJqlQh",
        "outputId": "51882716-1469-4064-f71d-42375193f57d"
      },
      "source": [
        "for file in rose:\n",
        "  image1=cv2.imread(\"rose/\"+str(file),1)\n",
        "  resized_img1=cv2.resize(image1/255.0,(240,320))\n",
        "  X.append(resized_img1)\n",
        "print(len(X))"
      ],
      "execution_count": null,
      "outputs": [
        {
          "output_type": "stream",
          "text": [
            "1563\n"
          ],
          "name": "stdout"
        }
      ]
    },
    {
      "cell_type": "code",
      "metadata": {
        "colab": {
          "base_uri": "https://localhost:8080/"
        },
        "id": "1GRX6xFZ0vYP",
        "outputId": "dac6969a-7190-497f-ff18-e92265abad2a"
      },
      "source": [
        "for file in sunflower:\n",
        "  image2=cv2.imread(\"sunflower/\"+str(file),1)\n",
        "  resized_img2=cv2.resize(image2/255.0,(240,320))\n",
        "  X.append(resized_img2)\n",
        "print(len(X))"
      ],
      "execution_count": null,
      "outputs": [
        {
          "output_type": "stream",
          "text": [
            "2297\n"
          ],
          "name": "stdout"
        }
      ]
    },
    {
      "cell_type": "code",
      "metadata": {
        "id": "eZ0oIQ9Q01Ze"
      },
      "source": [
        "#for file in tulip:\n",
        "#  image3=cv2.imread(\"tulip/\"+str(file),1)\n",
        "#  resized_img3=cv2.resize(image3/255.0,(240,320))\n",
        "#  X.append(resized_img3)\n",
        "#print(len(X))"
      ],
      "execution_count": null,
      "outputs": []
    },
    {
      "cell_type": "code",
      "metadata": {
        "id": "KwOplgT5078W"
      },
      "source": [
        "#dandelion_data=[]\n",
        "#for file in dandelion:\n",
        "#  image=cv2.imread(\"dandelion/\"+str(file),1)\n",
        "  #resized_img=cv2.resize(image/255.0,(240,320))\n",
        "#  dandelion_data.append(resized_img)\n",
        "#print(len(dandelion_data))"
      ],
      "execution_count": null,
      "outputs": []
    },
    {
      "cell_type": "code",
      "metadata": {
        "id": "89mZ1uIi1kj2",
        "colab": {
          "base_uri": "https://localhost:8080/"
        },
        "outputId": "a60195e7-26c2-4d6c-d323-a47c1c2d2fc1"
      },
      "source": [
        "data = np.array(X)\n",
        "print(data.shape)"
      ],
      "execution_count": null,
      "outputs": [
        {
          "output_type": "stream",
          "text": [
            "(769, 320, 240, 3)\n"
          ],
          "name": "stdout"
        }
      ]
    },
    {
      "cell_type": "code",
      "metadata": {
        "id": "xr9HBlRW2XeT",
        "colab": {
          "base_uri": "https://localhost:8080/"
        },
        "outputId": "40c8e165-1af1-4ba3-b61b-4c27a9d5631f"
      },
      "source": [
        "label=[]\n",
        "for i in range(0,769):\n",
        "    label.append(0)\n",
        "for i in range(769,1563):\n",
        "    label.append(1)\n",
        "for i in range(1563,2297):\n",
        "    label.append(2)\n",
        "#for i in range(2297,3291):\n",
        "    #label.append(3)\n",
        "#for i in range(3291,4355):\n",
        "    #label.append(4)\n",
        "\n",
        "label=np.array(label)\n",
        "label.shape"
      ],
      "execution_count": null,
      "outputs": [
        {
          "output_type": "execute_result",
          "data": {
            "text/plain": [
              "(769,)"
            ]
          },
          "metadata": {
            "tags": []
          },
          "execution_count": 53
        }
      ]
    },
    {
      "cell_type": "code",
      "metadata": {
        "id": "pxnFGrWrvP-t"
      },
      "source": [
        "from sklearn.model_selection import train_test_split\n",
        "X_train, X_test, Y_train, Y_test = train_test_split(data, label, test_size = 0.4, random_state = 0)"
      ],
      "execution_count": null,
      "outputs": []
    },
    {
      "cell_type": "code",
      "metadata": {
        "id": "Srpzidz2v0PN",
        "colab": {
          "base_uri": "https://localhost:8080/"
        },
        "outputId": "e302dbec-8a5f-414e-82c5-f3cbfda4aa8b"
      },
      "source": [
        "X_train=np.array(X_train)\n",
        "X_test=np.array(X_test)\n",
        "print(X_train.shape)\n",
        "print(Y_train.shape)\n",
        "print(X_test.shape)\n",
        "print(Y_test.shape)\n",
        "#To find number of classes\n",
        "k=np.unique(Y_train)\n",
        "print(k)\n",
        "K=len(k)\n",
        "print(K)"
      ],
      "execution_count": null,
      "outputs": [
        {
          "output_type": "stream",
          "text": [
            "(461, 320, 240, 3)\n",
            "(461,)\n",
            "(308, 320, 240, 3)\n",
            "(308,)\n",
            "[0]\n",
            "1\n"
          ],
          "name": "stdout"
        }
      ]
    },
    {
      "cell_type": "markdown",
      "metadata": {
        "id": "zyxTvXYz5Cil"
      },
      "source": [
        "###**Data Augmentation**"
      ]
    },
    {
      "cell_type": "code",
      "metadata": {
        "id": "PXxnQz361pXZ"
      },
      "source": [
        "datagen = ImageDataGenerator(\n",
        "        featurewise_center=False,  # set input mean to 0 over the dataset\n",
        "        samplewise_center=False,  # set each sample mean to 0\n",
        "        featurewise_std_normalization=False,  # divide inputs by std of the dataset\n",
        "        samplewise_std_normalization=False,  # divide each input by its std\n",
        "        zca_whitening=False,  # apply ZCA whitening\n",
        "        rotation_range=10,  # randomly rotate images in the range (degrees, -10 to 10)\n",
        "        zoom_range = 0.2, # Randomly zoom image \n",
        "        width_shift_range=0.3,  # randomly shift images horizontally (fraction of total width)\n",
        "        height_shift_range=0.3,  # randomly shift images vertically (fraction of total height)\n",
        "        horizontal_flip=True,  # randomly flip images\n",
        "        vertical_flip=False)  # randomly flip images\n",
        "#datagen.fit(X_train)"
      ],
      "execution_count": null,
      "outputs": []
    },
    {
      "cell_type": "markdown",
      "metadata": {
        "id": "eghdmG8A5RDa"
      },
      "source": [
        "###**Building the Network**"
      ]
    },
    {
      "cell_type": "code",
      "metadata": {
        "id": "vW8sH3k19Bom"
      },
      "source": [
        "model = models.Sequential()\n",
        "model.add(layers.Dense(512, activation='relu', input_shape=(X_train.shape[1],)))\n",
        "model.add(layers.Dropout(0.2))\n",
        "model.add(layers.Dense(8, activation='relu'))\n",
        "model.add(layers.Dropout(0.2))\n",
        "model.add(layers.Dense(6, activation='relu'))\n",
        "model.add(layers.Dropout(0.2))\n",
        "model.add(layers.Dense(1, activation='softmax'))"
      ],
      "execution_count": null,
      "outputs": []
    },
    {
      "cell_type": "code",
      "metadata": {
        "id": "hCH2W0Ok2UpA"
      },
      "source": [
        "model.summary()"
      ],
      "execution_count": null,
      "outputs": []
    },
    {
      "cell_type": "markdown",
      "metadata": {
        "id": "QYE__mpo5gEU"
      },
      "source": [
        "###**Compilation**"
      ]
    },
    {
      "cell_type": "code",
      "metadata": {
        "id": "bMzMUZIQ2YOO"
      },
      "source": [
        "model.compile(optimizer=Adam,loss='sparse_categorical_crossentropy',metrics=['accuracy'])"
      ],
      "execution_count": null,
      "outputs": []
    },
    {
      "cell_type": "code",
      "metadata": {
        "id": "XgHMazcGCXgJ"
      },
      "source": [
        "History = model.fit_generator(datagen.flow(X_train, Y_train, batch_size=128), epochs = 25, validation_data=(X_test, Y_test))"
      ],
      "execution_count": null,
      "outputs": []
    },
    {
      "cell_type": "markdown",
      "metadata": {
        "id": "h6s3wVwf5rOF"
      },
      "source": [
        "###**Prediction**"
      ]
    },
    {
      "cell_type": "code",
      "metadata": {
        "id": "ccxzj_vC21ls"
      },
      "source": [
        "#To resize original image to standard format and saving it\n",
        "img1 = Image.open('predictit.jpg')\n",
        "imResize = img1.resize((150,150), Image.ANTIALIAS)\n",
        "imResize.save('predictit.jpg', 'JPEG', quality=90"
      ],
      "execution_count": null,
      "outputs": []
    },
    {
      "cell_type": "code",
      "metadata": {
        "id": "o57sMDyf6HO_"
      },
      "source": [
        "predictimg=cv2.imread(\"predictit.jpg\",1)\n",
        "predictimg=np.array(predictimg)\n",
        "plt.imshow(predictimg)\n",
        "predictimg=predictimg/255.0\n",
        "\n",
        "predictimg = np.expand_dims(predictimg, axis=0)\n",
        "predictimg.shape"
      ],
      "execution_count": null,
      "outputs": []
    },
    {
      "cell_type": "code",
      "metadata": {
        "id": "SmQ4P3eI6MBa"
      },
      "source": [
        "predition=model.predict(predictimg)\n",
        "\n",
        "predition=np.squeeze(predition)\n",
        "print(predition)\n",
        "predIndex=np.argmax(predition)"
      ],
      "execution_count": null,
      "outputs": []
    },
    {
      "cell_type": "code",
      "metadata": {
        "id": "tD1mFWoQ6M-1"
      },
      "source": [
        "print(\"The Species of given image is\",species[predIndex])"
      ],
      "execution_count": null,
      "outputs": []
    }
  ]
}