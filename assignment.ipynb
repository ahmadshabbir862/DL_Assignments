{
 "cells": [
  {
   "cell_type": "code",
   "execution_count": 1,
   "metadata": {},
   "outputs": [],
   "source": [
    "import numpy as np\n",
    "import matplotlib.pyplot as plt\n",
    "import pandas as pd\n",
    "import os\n",
    "import cv2\n",
    "from PIL import Image\n",
    "import sys"
   ]
  },
  {
   "cell_type": "code",
   "execution_count": 2,
   "metadata": {},
   "outputs": [],
   "source": [
    "daisy=os.listdir('daisy')\n",
    "rose=os.listdir('rose')\n",
    "dandelion=os.listdir('dandelion')\n",
    "sunflower=os.listdir('sunflower')\n",
    "tulip=os.listdir('tulip')"
   ]
  },
  {
   "cell_type": "code",
   "execution_count": 28,
   "metadata": {},
   "outputs": [],
   "source": [
    "IMG_DIR='rose/'\n",
    "def read_images(directory):\n",
    "  for img in glob.glob(directory+\"/'.'\"):\n",
    "    image = cv2.imread(img)\n",
    "    resized_img = cv2.resize(image/255.0 , (320,240))\n",
    "    print(image.shape)\n",
    "    yield resized_img\n",
    "    \n",
    "resized_imgs = np.array(list(read_images(IMG_DIR)))\n",
    "#print(image.shape)"
   ]
  },
  {
   "cell_type": "code",
   "execution_count": 3,
   "metadata": {},
   "outputs": [],
   "source": [
    "X=[]\n",
    "for file in daisy:\n",
    "    image=cv2.imread(\"daisy/\"+str(file),1)\n",
    "    resized_img = cv2.resize(image/255.0 , (240,320))\n",
    "    X.append(resized_img)"
   ]
  },
  {
   "cell_type": "code",
   "execution_count": 4,
   "metadata": {},
   "outputs": [
    {
     "name": "stdout",
     "output_type": "stream",
     "text": [
      "769\n"
     ]
    }
   ],
   "source": [
    "print(len(X))"
   ]
  },
  {
   "cell_type": "code",
   "execution_count": 5,
   "metadata": {},
   "outputs": [
    {
     "ename": "MemoryError",
     "evalue": "Unable to allocate 1.32 GiB for an array with shape (769, 320, 240, 3) and data type float64",
     "output_type": "error",
     "traceback": [
      "\u001b[1;31m---------------------------------------------------------------------------\u001b[0m",
      "\u001b[1;31mMemoryError\u001b[0m                               Traceback (most recent call last)",
      "\u001b[1;32m<ipython-input-5-31696986a6f9>\u001b[0m in \u001b[0;36m<module>\u001b[1;34m\u001b[0m\n\u001b[1;32m----> 1\u001b[1;33m \u001b[0mX\u001b[0m \u001b[1;33m=\u001b[0m \u001b[0mnp\u001b[0m\u001b[1;33m.\u001b[0m\u001b[0marray\u001b[0m\u001b[1;33m(\u001b[0m\u001b[0mX\u001b[0m\u001b[1;33m)\u001b[0m\u001b[1;33m\u001b[0m\u001b[1;33m\u001b[0m\u001b[0m\n\u001b[0m\u001b[0;32m      2\u001b[0m \u001b[0mdata\u001b[0m\u001b[1;33m.\u001b[0m\u001b[0mshape\u001b[0m\u001b[1;33m\u001b[0m\u001b[1;33m\u001b[0m\u001b[0m\n",
      "\u001b[1;31mMemoryError\u001b[0m: Unable to allocate 1.32 GiB for an array with shape (769, 320, 240, 3) and data type float64"
     ]
    }
   ],
   "source": [
    "X = np.array(X)\n",
    "data.shape"
   ]
  },
  {
   "cell_type": "code",
   "execution_count": null,
   "metadata": {},
   "outputs": [],
   "source": [
    "for file in daisy:\n",
    "    image=cv2.imread(\"daisy/\"+str(file),1)\n",
    "    resized_img = cv2.resize(image/255.0 , (240,320))\n",
    "    X.append(temp)\n",
    "for file in rose:\n",
    "    image=cv2.imread(\"rose/\"+str(file),1)\n",
    "    resized_img = cv2.resize(image/255.0 , (240,320))\n",
    "    X.append(temp)\n",
    "for file in dandelion:\n",
    "    image=cv2.imread(\"dandelion/\"+str(file),1)\n",
    "    resized_img = cv2.resize(image/255.0 , (240,320))\n",
    "    X.append(temp)\n",
    "print(len(X))\n",
    "for file in sunflower:\n",
    "    temp1=cv2.imread(\"sunflower/\"+str(file),1)\n",
    "    resized_img = cv2.resize(image/255.0 , (240,320))\n",
    "    X.append(temp1)\n",
    "print(len(X))\n",
    "for file in tulip:\n",
    "    temp=cv2.imread(\"tulip/\"+str(file),1)\n",
    "    resized_img = cv2.resize(image/255.0 , (240,320))\n",
    "    X.append(temp)\n",
    "print(len(X))"
   ]
  },
  {
   "cell_type": "code",
   "execution_count": 29,
   "metadata": {},
   "outputs": [
    {
     "data": {
      "text/plain": [
       "array([], dtype=float64)"
      ]
     },
     "execution_count": 29,
     "metadata": {},
     "output_type": "execute_result"
    }
   ],
   "source": [
    "resized_imgs"
   ]
  }
 ],
 "metadata": {
  "kernelspec": {
   "display_name": "Python 3",
   "language": "python",
   "name": "python3"
  },
  "language_info": {
   "codemirror_mode": {
    "name": "ipython",
    "version": 3
   },
   "file_extension": ".py",
   "mimetype": "text/x-python",
   "name": "python",
   "nbconvert_exporter": "python",
   "pygments_lexer": "ipython3",
   "version": "3.7.6"
  }
 },
 "nbformat": 4,
 "nbformat_minor": 4
}
